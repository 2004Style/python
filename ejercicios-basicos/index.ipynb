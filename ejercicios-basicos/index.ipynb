{
 "cells": [
  {
   "cell_type": "code",
   "execution_count": 1,
   "metadata": {},
   "outputs": [
    {
     "name": "stdout",
     "output_type": "stream",
     "text": [
      "3\n"
     ]
    }
   ],
   "source": [
    "var = 2\n",
    "var = 3\n",
    "print(var)"
   ]
  },
  {
   "cell_type": "code",
   "execution_count": 2,
   "metadata": {},
   "outputs": [
    {
     "name": "stdout",
     "output_type": "stream",
     "text": [
      "11\n"
     ]
    }
   ],
   "source": [
    "a = \"1\"\n",
    "b = \"1\"\n",
    "print(a + b)"
   ]
  },
  {
   "cell_type": "code",
   "execution_count": 3,
   "metadata": {},
   "outputs": [
    {
     "name": "stdout",
     "output_type": "stream",
     "text": [
      "1.0\n"
     ]
    }
   ],
   "source": [
    "a = 6\n",
    "b = 3\n",
    "a /= 2 * b\n",
    "print(a)"
   ]
  },
  {
   "cell_type": "code",
   "execution_count": 4,
   "metadata": {},
   "outputs": [
    {
     "name": "stdout",
     "output_type": "stream",
     "text": [
      "c = 5.0\n"
     ]
    }
   ],
   "source": [
    "# Este programa evalúa la hipotenusa c.\n",
    "# a y b son las longitudes de los cátetos.\n",
    "a = 3.0\n",
    "b = 4.0\n",
    "c = (a**2 + b**2) ** 0.5  # Se emplea ** en lugar de una raíz cuadrada.\n",
    "print(\"c =\", c)"
   ]
  },
  {
   "cell_type": "code",
   "execution_count": null,
   "metadata": {},
   "outputs": [],
   "source": [
    "# Este es un programa de prueba.\n",
    "x = 1\n",
    "y = 2\n",
    "# y = y + x\n",
    "print(x + y)"
   ]
  },
  {
   "cell_type": "code",
   "execution_count": null,
   "metadata": {},
   "outputs": [],
   "source": [
    "# uncomment_me = 1\n",
    "# uncomment_me_too = 3\n",
    "# uncomment_me_also = 5\n",
    "\n",
    "print(uncomment_me, uncomment_me_too, uncomment_me_also, sep=\"\\n\")"
   ]
  },
  {
   "cell_type": "code",
   "execution_count": null,
   "metadata": {},
   "outputs": [],
   "source": [
    "# este programa calcula los segundos en cierto número de horas determinadas\n",
    "# este programa fue escrito hace dos días\n",
    "\n",
    "a = 2  # número de horas\n",
    "seconds = 3600  # número de segundos en una hora\n",
    "\n",
    "print(\"Horas: \", a)  # imprime el numero de horas\n",
    "# print(\"Segundos en Horas: \", a * seconds) # se imprime el numero de segundos en determinado numero de horas\n",
    "\n",
    "# aquí también se debe de imprimir un \"Adiós\", pero el programador no tuvo tiempo de escribirlo\n",
    "# este el es fin del programa que calcula el numero de segundos en 2 horas"
   ]
  },
  {
   "cell_type": "code",
   "execution_count": null,
   "metadata": {},
   "outputs": [],
   "source": [
    "# Este programa imprime\n",
    "# una introducción en la pantalla.\n",
    "print(\"¡Hola!\")  # Invocando a la función print()\n",
    "# print(\"Soy Python.\")"
   ]
  },
  {
   "cell_type": "code",
   "execution_count": null,
   "metadata": {},
   "outputs": [],
   "source": [
    "# print(\"Cadena #1\")\n",
    "print(\"Cadena #2\")"
   ]
  },
  {
   "cell_type": "code",
   "execution_count": null,
   "metadata": {},
   "outputs": [],
   "source": [
    "#Este es\n",
    "un comentario\n",
    "multilínea.#\n",
    "\n",
    "print(\"¡Hola!\")\n",
    "\n"
   ]
  },
  {
   "cell_type": "code",
   "execution_count": null,
   "metadata": {},
   "outputs": [],
   "source": [
    "print(\"Dime lo que sea...\")\n",
    "anything = input()\n",
    "print(\"Hmm...\", anything, \"... ¿en serio?\")"
   ]
  },
  {
   "cell_type": "code",
   "execution_count": null,
   "metadata": {},
   "outputs": [],
   "source": [
    "print(\"Dime lo que sea...\")\n",
    "anything = input()\n",
    "print(\"Hmm...\", anything, \"... ¿en serio?\")"
   ]
  },
  {
   "cell_type": "code",
   "execution_count": null,
   "metadata": {},
   "outputs": [],
   "source": [
    "anything = input(\"Dime lo que sea...\")\n",
    "print(\"Hmm...\", anything, \"...¿en serio?\")"
   ]
  },
  {
   "cell_type": "code",
   "execution_count": null,
   "metadata": {},
   "outputs": [],
   "source": [
    "anything = input(\"Ingresa un número:\")\n",
    "something = anything**2.0\n",
    "print(anything, \"al cuadrado es\", something)"
   ]
  },
  {
   "cell_type": "code",
   "execution_count": null,
   "metadata": {},
   "outputs": [],
   "source": [
    "# Probando un mensaje de error TypeError.\n",
    "\n",
    "anything = input(\"Ingresa un número: \")\n",
    "something = anything**2.0\n",
    "print(anything, \"al cuadrado es\", something)"
   ]
  },
  {
   "cell_type": "code",
   "execution_count": null,
   "metadata": {},
   "outputs": [],
   "source": [
    "anything = float(input(\"Ingresa un número: \"))\n",
    "something = anything**2.0\n",
    "print(anything, \"a la potencia de 2 es\", something)"
   ]
  },
  {
   "cell_type": "code",
   "execution_count": null,
   "metadata": {},
   "outputs": [],
   "source": [
    "leg_a = float(input(\"Ingresa la longitud del primer cateto: \"))\n",
    "leg_b = float(input(\"Ingresa la longitud del segundo cateto: \"))\n",
    "hypo = (leg_a**2 + leg_b**2) ** 0.5\n",
    "print(\"La longitud de la hipotenusa es:\", hypo)"
   ]
  },
  {
   "cell_type": "code",
   "execution_count": null,
   "metadata": {},
   "outputs": [],
   "source": [
    "leg_a = float(input(\"Ingresa la longitud del primer cateto: \"))\n",
    "leg_b = float(input(\"Ingresa la longitud del segundo cateto: \"))\n",
    "print(\"La longitud de la hipotenusa es:\", (leg_a**2 + leg_b**2) ** 0.5)"
   ]
  },
  {
   "cell_type": "code",
   "execution_count": null,
   "metadata": {},
   "outputs": [],
   "source": [
    "string + string"
   ]
  },
  {
   "cell_type": "code",
   "execution_count": null,
   "metadata": {},
   "outputs": [],
   "source": [
    "fnam = input(\"¿Me puedes dar tu nombre por favor? \")\n",
    "lnam = input(\"¿Me puedes dar tu apellido por favor? \")\n",
    "print(\"Gracias. \")\n",
    "print(\"\\nTu nombre es \" + fnam + \" \" + lnam + \".\")"
   ]
  },
  {
   "cell_type": "code",
   "execution_count": null,
   "metadata": {},
   "outputs": [],
   "source": [
    "string * number\n",
    "number * string"
   ]
  },
  {
   "cell_type": "code",
   "execution_count": null,
   "metadata": {},
   "outputs": [],
   "source": [
    "print(\"+\" + 10 * \"-\" + \"+\")\n",
    "print((\"|\" + \" \" * 10 + \"|\\n\") * 5, end=\"\")\n",
    "print(\"+\" + 10 * \"-\" + \"+\")"
   ]
  },
  {
   "cell_type": "code",
   "execution_count": null,
   "metadata": {},
   "outputs": [],
   "source": [
    "str(number)"
   ]
  },
  {
   "cell_type": "code",
   "execution_count": null,
   "metadata": {},
   "outputs": [],
   "source": [
    "leg_a = float(input(\"Ingresa la longitud del primer cateto: \"))\n",
    "leg_b = float(input(\"Ingresa la longitud del segundo cateto: \"))\n",
    "print(\"La longitud de la hipotenusa es \" + str((leg_a**2 + leg_b**2) ** 0.5))"
   ]
  },
  {
   "cell_type": "code",
   "execution_count": null,
   "metadata": {},
   "outputs": [],
   "source": [
    "# ingresa un valor flotante para la variable a aquí\n",
    "# ingresa un valor flotante para la variable b aquí\n",
    "\n",
    "# mostrar el resultado de la suma aquí\n",
    "# mostrar el resultado de la resta aquí\n",
    "# mostrar el resultado de la multiplicación aquí\n",
    "# mostrar el resultado de la división aquí\n",
    "\n",
    "print(\"\\n¡Eso es todo, amigos!\")"
   ]
  },
  {
   "cell_type": "code",
   "execution_count": null,
   "metadata": {},
   "outputs": [],
   "source": [
    "x = float(input(\"Ingresa el valor para x: \"))\n",
    "\n",
    "# Escribe tu código aquí.\n",
    "\n",
    "print(\"y =\", y)"
   ]
  },
  {
   "cell_type": "code",
   "execution_count": null,
   "metadata": {},
   "outputs": [],
   "source": [
    "hour = int(input(\"Hora de inicio (horas): \"))\n",
    "mins = int(input(\"Minuto de inicio (minutos): \"))\n",
    "dura = int(input(\"Duración del evento (minutos): \"))\n",
    "\n",
    "# Escribe tu código aquí."
   ]
  },
  {
   "cell_type": "code",
   "execution_count": null,
   "metadata": {},
   "outputs": [],
   "source": [
    "name = input(\"Ingresa tu nombre: \")\n",
    "print(\"Hola, \" + name + \". ¡Un gusto conocerte!\")"
   ]
  },
  {
   "cell_type": "code",
   "execution_count": null,
   "metadata": {},
   "outputs": [],
   "source": [
    "name = input(\"Ingresa tu nombre: \")\n",
    "print(\"Hola, \" + name + \". '¡Gusto en conocerte'!\")\n",
    "\n",
    "print(\"\\nPresiona Enter para terminar el programa.\")\n",
    "input()\n",
    "print(\"FIN.\")"
   ]
  },
  {
   "cell_type": "code",
   "execution_count": null,
   "metadata": {},
   "outputs": [],
   "source": [
    "num_1 = input(\"Ingresa el primer número: \")  # Ingresa 12\n",
    "num_2 = input(\"Ingresa el segundo número: \")  # Ingresa 21\n",
    "\n",
    "print(num_1 + num_2)  # El programa retorna 1221"
   ]
  },
  {
   "cell_type": "code",
   "execution_count": null,
   "metadata": {},
   "outputs": [],
   "source": [
    "my_input = input(\"Ingresa algo: \")  # Entrada de ejemplo: hola\n",
    "print(my_input * 3)  # Salida Esperada: holahola"
   ]
  },
  {
   "cell_type": "code",
   "execution_count": null,
   "metadata": {},
   "outputs": [],
   "source": [
    "x = int(input(\"Ingresa un número: \"))  # El usuario ingresa un 2\n",
    "print(x * \"5\")"
   ]
  },
  {
   "cell_type": "code",
   "execution_count": null,
   "metadata": {},
   "outputs": [],
   "source": [
    "x = input(\"Ingresa un número: \")  # El usuario ingresa un 2\n",
    "print(type(x))"
   ]
  }
 ],
 "metadata": {
  "kernelspec": {
   "display_name": "Python 3",
   "language": "python",
   "name": "python3"
  },
  "language_info": {
   "codemirror_mode": {
    "name": "ipython",
    "version": 3
   },
   "file_extension": ".py",
   "mimetype": "text/x-python",
   "name": "python",
   "nbconvert_exporter": "python",
   "pygments_lexer": "ipython3",
   "version": "3.12.4"
  }
 },
 "nbformat": 4,
 "nbformat_minor": 2
}
