{
 "cells": [
  {
   "cell_type": "code",
   "execution_count": null,
   "metadata": {},
   "outputs": [],
   "source": [
    "nombre = \"ronald\"\n",
    "edad = 20\n",
    "altura = 1.75\n",
    "\n",
    "\n",
    "print(nombre, edad, altura)\n",
    "print(type(nombre), type(edad), type(altura))"
   ]
  },
  {
   "cell_type": "code",
   "execution_count": null,
   "metadata": {},
   "outputs": [],
   "source": [
    "\n",
    "# ejercicio: si es menor a 10 elevar el numero al cuadrado caso contrario elevar al cubo\n",
    "def potenciacion(num1):\n",
    "    if num1 < 10:\n",
    "        return num1**2\n",
    "    else:\n",
    "        return num1**3\n",
    "\n",
    "\n",
    "print(f\"el resultado es: {potenciacion(20)}\")"
   ]
  },
  {
   "cell_type": "code",
   "execution_count": null,
   "metadata": {},
   "outputs": [],
   "source": [
    "num1 = int(input(\"ingrese el numero 1 -> \"))\n",
    "num2 = int(input(\"ingrese el numero 2 -> \"))\n",
    "suma = num1 + num2\n",
    "\n",
    "print(f\"la suma es {suma}\")"
   ]
  },
  {
   "cell_type": "markdown",
   "metadata": {},
   "source": [
    "### **condicionales**"
   ]
  },
  {
   "cell_type": "code",
   "execution_count": null,
   "metadata": {},
   "outputs": [],
   "source": [
    "num1 = int(input(\"igrese el numero 1: \"))\n",
    "if num1 < 10:\n",
    "    potencia = num1**2\n",
    "    # potencia es igual a num1 por num1\n",
    "else:\n",
    "    potencia = num1**3\n",
    "    # potencia es igual a num1 por num1 por num1\n",
    "print(f\"la potecia es: {potencia}\")"
   ]
  },
  {
   "cell_type": "markdown",
   "metadata": {},
   "source": [
    "### **bucle for**"
   ]
  },
  {
   "cell_type": "code",
   "execution_count": null,
   "metadata": {},
   "outputs": [],
   "source": [
    "num1 = int(input(\"ingrese el numero base\"))\n",
    "num2 = int(input(\"ingrese el numero tope\"))\n",
    "\n",
    "\n",
    "for i in range(num1, num2 + 1):\n",
    "    print(i)"
   ]
  },
  {
   "cell_type": "markdown",
   "metadata": {},
   "source": [
    "### **funciones**"
   ]
  },
  {
   "cell_type": "code",
   "execution_count": null,
   "metadata": {},
   "outputs": [],
   "source": [
    "def potencia(base, exponente):\n",
    "    if exponente % 2 == 0:\n",
    "        print(\"el exponente es par\")\n",
    "    else:\n",
    "        print(\"el ecponente es impar\")\n",
    "    potencia = 1\n",
    "    for i in range(exponente):\n",
    "        potencia = potencia * base\n",
    "    print(f\"el resultado de la potencia es: {potencia}\")\n",
    "\n",
    "potencia(5, 3)"
   ]
  },
  {
   "cell_type": "markdown",
   "metadata": {},
   "source": [
    "### **dunciones lambda nivel basico**\n",
    "##### **funcion tradicional**"
   ]
  },
  {
   "cell_type": "code",
   "execution_count": null,
   "metadata": {},
   "outputs": [],
   "source": [
    "# funcion que me devuelve el cuadrado de un numero\n",
    "def funcioncuadrado(num1):\n",
    "    return num1**2\n",
    "\n",
    "print(f\"el resultado es {funcioncuadrado(4)}\")"
   ]
  },
  {
   "cell_type": "markdown",
   "metadata": {},
   "source": [
    "##### **ejercicio: si el nimero ingresado es menor a 10 se potenciara al cuadrado y si es mayo a 10 se potenciara al cubo**"
   ]
  },
  {
   "cell_type": "code",
   "execution_count": null,
   "metadata": {},
   "outputs": [],
   "source": [
    "def potenciacion(num1):\n",
    "    if num1 < 10:\n",
    "        return num1**2\n",
    "    else:\n",
    "        return num1**3\n",
    "\n",
    "print(f\"el resultado es: {potenciacion(20)}\")\n",
    "\n",
    "\n",
    "#segunda forma\n",
    "potenciacion = lambda num1: num1**2 if num1 < 10 else num1**3\n",
    "\n",
    "print(f\"el resultado es: {potenciacion(20)}\")"
   ]
  },
  {
   "cell_type": "markdown",
   "metadata": {},
   "source": [
    "##### **ejercicio: la funcion recibira como parametros la base y el exponente**"
   ]
  },
  {
   "cell_type": "code",
   "execution_count": null,
   "metadata": {},
   "outputs": [],
   "source": [
    "potenciacion = lambda base, exponente: base ** exponente\n",
    "\n",
    "print(f\"el resultado es: {potenciacion(10, 2)}\")"
   ]
  },
  {
   "cell_type": "code",
   "execution_count": null,
   "metadata": {},
   "outputs": [],
   "source": [
    "#listas, tuplas y diccionarios\n",
    "#mutabilidad(listas y diccionarios) e inmitabilidad(tupla)\n",
    "#lista\n",
    "notas = [14,15, 12, 20, 16, 22, 49]\n",
    "nombre = ['juan', 'marcus', 'laia', 'norka']\n",
    "mix = [False, 13.5, '´karla', 34, ['blue','red','green']]\n",
    "notas,nombre, mix"
   ]
  },
  {
   "cell_type": "code",
   "execution_count": null,
   "metadata": {},
   "outputs": [],
   "source": [
    "notas.append(12)\n",
    "notas"
   ]
  },
  {
   "cell_type": "code",
   "execution_count": null,
   "metadata": {},
   "outputs": [],
   "source": [
    "print(f\"notas: {notas}\")\n",
    "print(f'notas: {notas[0]}')\n",
    "print(f'notas: {notas[1:4]}')\n",
    "print(f'notas: {notas[-1]}')\n",
    "print(f'notas: {notas[-1]}')\n",
    "print(f'notas: {notas[:4]}')\n",
    "print(f'notas: {notas[4:]}')\n",
    "print(f'notas: {notas[:]}')"
   ]
  },
  {
   "cell_type": "code",
   "execution_count": null,
   "metadata": {},
   "outputs": [],
   "source": [
    "#definir tuplas\n",
    "colores = ('red', 'yellow', 'green', 'blue', 'pink')\n",
    "print(colores)\n",
    "print(colores[3])\n",
    "print(colores[4])\n",
    "print(colores[1:3])\n",
    "print(colores[:3])"
   ]
  },
  {
   "cell_type": "code",
   "execution_count": null,
   "metadata": {},
   "outputs": [],
   "source": [
    "#diccionarios\n",
    "diccionarios = {\n",
    "    'ruben': 34.4, 'jaime':45.3, 'nicole':40.2, 'lisa':2.4\n",
    "}\n",
    "print(diccionarios)\n",
    "print(f'diccionerio [\"jaime\"]: {diccionarios[\"jaime\"]}')"
   ]
  },
  {
   "cell_type": "code",
   "execution_count": 2,
   "metadata": {},
   "outputs": [
    {
     "name": "stdout",
     "output_type": "stream",
     "text": [
      "[1, 2, 3, 4, 5, 6, 7, 8, 9, 10, 11, 12]\n",
      "[2, 4, 6, 8, 10, 12, 14, 16, 18, 20, 22, 24]\n"
     ]
    }
   ],
   "source": [
    "#list comprehension\n",
    "numbers = [1,2,3,4,5,6,7,8,9,10,11,12]\n",
    "\n",
    "#retornar el doble de los elementos\n",
    "double_numbers = [numero*2 for numero in numbers]\n",
    "print(numbers)\n",
    "print(double_numbers)"
   ]
  },
  {
   "cell_type": "code",
   "execution_count": 3,
   "metadata": {},
   "outputs": [
    {
     "name": "stdout",
     "output_type": "stream",
     "text": [
      "[1, 2, 3, 4, 5, 6, 7, 8, 9, 10, 11, 12]\n",
      "[2, 4, 6, 8, 10, 12]\n",
      "[1, 3, 5, 7, 9, 11]\n",
      "[1, 3, 5]\n"
     ]
    }
   ],
   "source": [
    "# sintaxis: list comprehension\n",
    "# [expresion for item in list if condition == True]\n",
    "\n",
    "pares = [num for num in numbers if num % 2 == 0]\n",
    "impares = [num for num in numbers if num % 2 != 0]\n",
    "imparesconrango = [num for num in range(1,7) if num % 2 != 0]\n",
    "\n",
    "print(numbers)\n",
    "print(pares)\n",
    "print(impares)\n",
    "print(imparesconrango)"
   ]
  },
  {
   "cell_type": "markdown",
   "metadata": {},
   "source": [
    "pyspark"
   ]
  },
  {
   "cell_type": "code",
   "execution_count": 11,
   "metadata": {},
   "outputs": [
    {
     "ename": "ModuleNotFoundError",
     "evalue": "No module named 'pyspark.sql'",
     "output_type": "error",
     "traceback": [
      "\u001b[1;31m---------------------------------------------------------------------------\u001b[0m",
      "\u001b[1;31mModuleNotFoundError\u001b[0m                       Traceback (most recent call last)",
      "Cell \u001b[1;32mIn[11], line 1\u001b[0m\n\u001b[1;32m----> 1\u001b[0m \u001b[38;5;28;01mfrom\u001b[39;00m \u001b[38;5;21;01mpyspark\u001b[39;00m\u001b[38;5;21;01m.\u001b[39;00m\u001b[38;5;21;01msql\u001b[39;00m \u001b[38;5;28;01mimport\u001b[39;00m SparkSession\n\u001b[0;32m      3\u001b[0m \u001b[38;5;66;03m# Crear una sesión de Spark\u001b[39;00m\n\u001b[0;32m      4\u001b[0m spark \u001b[38;5;241m=\u001b[39m SparkSession\u001b[38;5;241m.\u001b[39mbuilder\u001b[38;5;241m.\u001b[39mappName(\u001b[38;5;124m\"\u001b[39m\u001b[38;5;124mExampleApp\u001b[39m\u001b[38;5;124m\"\u001b[39m)\u001b[38;5;241m.\u001b[39mgetOrCreate()\n",
      "\u001b[1;31mModuleNotFoundError\u001b[0m: No module named 'pyspark.sql'"
     ]
    }
   ],
   "source": [
    "from pyspark.sql import SparkSession\n",
    "\n",
    "# Crear una sesión de Spark\n",
    "spark = SparkSession.builder.appName(\"ExampleApp\").getOrCreate()\n",
    "\n",
    "# Crear un DataFrame\n",
    "df = spark.createDataFrame([{\"saludar\": \"hola mundo\"} for _ in range(10)])\n",
    "\n",
    "# Mostrar el DataFrame\n",
    "df.show()"
   ]
  }
 ],
 "metadata": {
  "kernelspec": {
   "display_name": "Python 3",
   "language": "python",
   "name": "python3"
  },
  "language_info": {
   "codemirror_mode": {
    "name": "ipython",
    "version": 3
   },
   "file_extension": ".py",
   "mimetype": "text/x-python",
   "name": "python",
   "nbconvert_exporter": "python",
   "pygments_lexer": "ipython3",
   "version": "3.11.4"
  }
 },
 "nbformat": 4,
 "nbformat_minor": 2
}
